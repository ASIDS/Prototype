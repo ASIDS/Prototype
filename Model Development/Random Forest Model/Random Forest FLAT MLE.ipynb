{
 "cells": [
  {
   "cell_type": "markdown",
   "metadata": {},
   "source": [
    "## CHECK VERSIONS"
   ]
  },
  {
   "cell_type": "code",
   "execution_count": 94,
   "metadata": {},
   "outputs": [
    {
     "name": "stdout",
     "output_type": "stream",
     "text": [
      "Windows-10-10.0.18362-SP0\n",
      "Python 3.7.3 (default, Apr 24 2019, 15:29:51) [MSC v.1915 64 bit (AMD64)]\n",
      "NumPy 1.16.4\n",
      "SciPy 1.2.1\n",
      "Scikit-Learn 0.21.2\n"
     ]
    }
   ],
   "source": [
    "import platform; print(platform.platform())\n",
    "import sys; print(\"Python\", sys.version)\n",
    "import numpy; print(\"NumPy\", numpy.__version__)\n",
    "import scipy; print(\"SciPy\", scipy.__version__)\n",
    "import sklearn; print(\"Scikit-Learn\", sklearn.__version__)"
   ]
  },
  {
   "cell_type": "code",
   "execution_count": 95,
   "metadata": {},
   "outputs": [],
   "source": [
    "\n",
    "def OneHotEncode(x,classAmount):\n",
    "    import numpy as np\n",
    "    from numpy import argmax\n",
    "    # integer encode input data\n",
    "    integer_encoded = list(np.floor(x).astype(int))\n",
    "    # one hot encode\n",
    "    onehot_encoded = list()\n",
    "    for value in integer_encoded:\n",
    "        temp = [0 for _ in range(classAmount)]\n",
    "        temp[value] = 1\n",
    "        onehot_encoded.append(temp)\n",
    "    return np.array(onehot_encoded)\n",
    "# invert encoding\n"
   ]
  },
  {
   "cell_type": "markdown",
   "metadata": {},
   "source": [
    "## LOAD DATA (TRAINNING)"
   ]
  },
  {
   "cell_type": "code",
   "execution_count": 96,
   "metadata": {},
   "outputs": [
    {
     "name": "stdout",
     "output_type": "stream",
     "text": [
      "24534 Data\n",
      "4878 samples 0-Ambience  19 %\n",
      "8694 samples 1-Hatchet  35 %\n",
      "7479 samples 2-Chainsaw  30 %\n",
      "3483 samples 3-Vehicle  14 %\n",
      "Final Data Extracted Shape (24534, 98, 40)\n",
      "Final Target Extracted Shape (24534,)\n"
     ]
    }
   ],
   "source": [
    "import numpy as np \n",
    "\n",
    "root =\"Dataset/\"\n",
    "\n",
    "datafile = root +\"data\"+\"InSampleMel-Log-TT-24534 A-19 H-35 C-30 V-14-98-40 14-Dec-2019-1812H.npy\"\n",
    "targetfile = root +\"target\"+\"InSampleMel-Log-TT-24534 A-19 H-35 C-30 V-14-98-40 14-Dec-2019-1812H.npy\"\n",
    "\n",
    "InsampleloadTarget = np.load(targetfile) # load\n",
    "InsampleloadData = np.load(datafile) #\n",
    "\n",
    "X=InsampleloadData\n",
    "y=InsampleloadTarget\n",
    "\n",
    "\n",
    "AAA = list(y).count(0.000)\n",
    "HHH = list(y).count(1.000)\n",
    "CCC = list(y).count(2.000)\n",
    "VVV = list(y).count(3.000)\n",
    "i=AAA+HHH+CCC+VVV\n",
    "Aper = int(AAA/i*100)\n",
    "Hper = int(HHH/i*100)\n",
    "Cper = int(CCC/i*100)\n",
    "Vper = int(VVV/i*100)\n",
    "print(i,\"Data\")\n",
    "print(AAA,\"samples 0-Ambience \",Aper,\"%\")\n",
    "print(HHH,\"samples 1-Hatchet \",Hper,\"%\")\n",
    "print(CCC,\"samples 2-Chainsaw \",Cper,\"%\")\n",
    "print(VVV,\"samples 3-Vehicle \",Vper,\"%\")\n",
    "print (\"Final Data Extracted Shape\",X.shape)\n",
    "print (\"Final Target Extracted Shape\",y.shape)"
   ]
  },
  {
   "cell_type": "markdown",
   "metadata": {},
   "source": [
    "## LOAD DATA (TESTING)"
   ]
  },
  {
   "cell_type": "code",
   "execution_count": 97,
   "metadata": {},
   "outputs": [
    {
     "name": "stdout",
     "output_type": "stream",
     "text": [
      "7258 Data\n",
      "1330 samples 0-Ambience  18 %\n",
      "2622 samples 1-Hatchet  36 %\n",
      "1311 samples 2-Chainsaw  18 %\n",
      "1995 samples 3-Vehicle  27 %\n",
      "Final Data Extracted Shape (7258, 98, 40)\n",
      "Final Target Extracted Shape (7258,)\n"
     ]
    }
   ],
   "source": [
    "from sklearn.model_selection import train_test_split\n",
    "import numpy as np \n",
    "\n",
    "root =\"C:/Users/Another/CNN/Batch Trainning/Dataset/\"\n",
    "\n",
    "datafile = root +\"data\"+\"NewTrue_Unique-Out-of-SampleMel-Log-TT-7258 A-18 H-36 C-18 V-27-98-40 15-Dec-2019-1044H.npy\"\n",
    "targetfile = root +\"target\"+\"NewTrue_Unique-Out-of-SampleMel-Log-TT-7258 A-18 H-36 C-18 V-27-98-40 15-Dec-2019-1044H.npy\"\n",
    "\n",
    "OutloadTarget = np.load(targetfile) # load\n",
    "OutloadData = np.load(datafile) #\n",
    "X_out = OutloadData\n",
    "y_out = OutloadTarget\n",
    "\n",
    "XX = OutloadData\n",
    "yy = OutloadTarget\n",
    "\n",
    "AAA = list(yy).count(0.000)\n",
    "HHH = list(yy).count(1.000)\n",
    "CCC = list(yy).count(2.000)\n",
    "VVV = list(yy).count(3.000)\n",
    "i=AAA+HHH+CCC+VVV\n",
    "Aper = int(AAA/i*100)\n",
    "Hper = int(HHH/i*100)\n",
    "Cper = int(CCC/i*100)\n",
    "Vper = int(VVV/i*100)\n",
    "print(i,\"Data\")\n",
    "print(AAA,\"samples 0-Ambience \",Aper,\"%\")\n",
    "print(HHH,\"samples 1-Hatchet \",Hper,\"%\")\n",
    "print(CCC,\"samples 2-Chainsaw \",Cper,\"%\")\n",
    "print(VVV,\"samples 3-Vehicle \",Vper,\"%\")\n",
    "print (\"Final Data Extracted Shape\",XX.shape)\n",
    "print (\"Final Target Extracted Shape\",yy.shape)"
   ]
  },
  {
   "cell_type": "code",
   "execution_count": 98,
   "metadata": {},
   "outputs": [
    {
     "name": "stdout",
     "output_type": "stream",
     "text": [
      "Training Features Shape: (24534, 98, 40)\n",
      "Training Labels Shape: (24534, 4)\n",
      "Testing Features Shape: (7258, 98, 40)\n",
      "Testing Labels Shape: (7258, 4)\n"
     ]
    }
   ],
   "source": [
    "num_classes = 4\n",
    "\n",
    "y_in_ONEHOT = OneHotEncode(InsampleloadTarget,num_classes)\n",
    "y_out_ONEHOT = OneHotEncode(OutloadTarget,num_classes)\n",
    "\n",
    "y_in_ONEHOT.shape\n",
    "y_out_ONEHOT.shape\n",
    "\n",
    "print('Training Features Shape:', InsampleloadData.shape)\n",
    "print('Training Labels Shape:', y_in_ONEHOT.shape)\n",
    "print('Testing Features Shape:', OutloadData.shape)\n",
    "print('Testing Labels Shape:', y_out_ONEHOT.shape)\n"
   ]
  },
  {
   "cell_type": "code",
   "execution_count": null,
   "metadata": {},
   "outputs": [],
   "source": []
  },
  {
   "cell_type": "code",
   "execution_count": 99,
   "metadata": {},
   "outputs": [],
   "source": [
    "def flattenFeature(x):\n",
    "    flats = []\n",
    "    print(len(x))\n",
    "    for i in range(len(x)):\n",
    "        flat = np.ndarray.flatten(x[i,:,:])\n",
    "        flats.append(flat)\n",
    "    return np.array(flats)\n"
   ]
  },
  {
   "cell_type": "code",
   "execution_count": 100,
   "metadata": {},
   "outputs": [
    {
     "name": "stdout",
     "output_type": "stream",
     "text": [
      "24534\n",
      "Training Features Shape: (24534, 3920)\n",
      "7258\n",
      "Testing Features Shape: (7258, 3920)\n"
     ]
    }
   ],
   "source": [
    "\n",
    "X = flattenFeature(X)\n",
    "print('Training Features Shape:', X.shape)\n",
    "\n",
    "XX = flattenFeature(XX)\n",
    "print('Testing Features Shape:', XX.shape)\n",
    "\n",
    "\n",
    "\n"
   ]
  },
  {
   "cell_type": "code",
   "execution_count": 104,
   "metadata": {},
   "outputs": [
    {
     "name": "stdout",
     "output_type": "stream",
     "text": [
      "4906\n",
      "1451\n"
     ]
    }
   ],
   "source": [
    "X_train, X_test, y_train, y_test = train_test_split(X, y, test_size=0.80, random_state=42, stratify = y)\n",
    "\n",
    "print(len(X_train))\n",
    "\n",
    "\n",
    "X_train_out, X_test_out, y_train_out, y_test_out = train_test_split(XX, yy, test_size=0.80, random_state=42, stratify = yy)\n",
    "\n",
    "print(len(X_train_out))"
   ]
  },
  {
   "cell_type": "code",
   "execution_count": 105,
   "metadata": {},
   "outputs": [
    {
     "data": {
      "text/plain": [
       "RandomForestClassifier(bootstrap=True, class_weight=None, criterion='gini',\n",
       "                       max_depth=None, max_features='auto', max_leaf_nodes=None,\n",
       "                       min_impurity_decrease=0.0, min_impurity_split=None,\n",
       "                       min_samples_leaf=1, min_samples_split=2,\n",
       "                       min_weight_fraction_leaf=0.0, n_estimators=100,\n",
       "                       n_jobs=None, oob_score=False, random_state=None,\n",
       "                       verbose=0, warm_start=False)"
      ]
     },
     "execution_count": 105,
     "metadata": {},
     "output_type": "execute_result"
    }
   ],
   "source": [
    "\n",
    "\n",
    "#Import Random Forest Model\n",
    "from sklearn.ensemble import RandomForestClassifier\n",
    "\n",
    "#Create a Gaussian Classifier\n",
    "clf=RandomForestClassifier(n_estimators=100)\n",
    "\n",
    "clf.fit(X_train,y_train)\n",
    "\n"
   ]
  },
  {
   "cell_type": "code",
   "execution_count": 139,
   "metadata": {},
   "outputs": [
    {
     "name": "stdout",
     "output_type": "stream",
     "text": [
      "Accuracy: 0.9308640717342572\n"
     ]
    },
    {
     "ename": "ValueError",
     "evalue": "multiclass format is not supported",
     "output_type": "error",
     "traceback": [
      "\u001b[1;31m---------------------------------------------------------------------------\u001b[0m",
      "\u001b[1;31mValueError\u001b[0m                                Traceback (most recent call last)",
      "\u001b[1;32m<ipython-input-139-8157b42ccb83>\u001b[0m in \u001b[0;36m<module>\u001b[1;34m\u001b[0m\n\u001b[0;32m     10\u001b[0m \u001b[1;33m\u001b[0m\u001b[0m\n\u001b[0;32m     11\u001b[0m \u001b[1;31m# Calculate roc auc\u001b[0m\u001b[1;33m\u001b[0m\u001b[1;33m\u001b[0m\u001b[1;33m\u001b[0m\u001b[0m\n\u001b[1;32m---> 12\u001b[1;33m \u001b[0mroc_value\u001b[0m \u001b[1;33m=\u001b[0m \u001b[0mroc_auc_score\u001b[0m\u001b[1;33m(\u001b[0m\u001b[0my_test\u001b[0m\u001b[1;33m,\u001b[0m \u001b[0my_pred\u001b[0m\u001b[1;33m)\u001b[0m\u001b[1;33m\u001b[0m\u001b[1;33m\u001b[0m\u001b[0m\n\u001b[0m",
      "\u001b[1;32m~\\Anaconda3\\lib\\site-packages\\sklearn\\metrics\\ranking.py\u001b[0m in \u001b[0;36mroc_auc_score\u001b[1;34m(y_true, y_score, average, sample_weight, max_fpr)\u001b[0m\n\u001b[0;32m    353\u001b[0m     return _average_binary_score(\n\u001b[0;32m    354\u001b[0m         \u001b[0m_binary_roc_auc_score\u001b[0m\u001b[1;33m,\u001b[0m \u001b[0my_true\u001b[0m\u001b[1;33m,\u001b[0m \u001b[0my_score\u001b[0m\u001b[1;33m,\u001b[0m \u001b[0maverage\u001b[0m\u001b[1;33m,\u001b[0m\u001b[1;33m\u001b[0m\u001b[1;33m\u001b[0m\u001b[0m\n\u001b[1;32m--> 355\u001b[1;33m         sample_weight=sample_weight)\n\u001b[0m\u001b[0;32m    356\u001b[0m \u001b[1;33m\u001b[0m\u001b[0m\n\u001b[0;32m    357\u001b[0m \u001b[1;33m\u001b[0m\u001b[0m\n",
      "\u001b[1;32m~\\Anaconda3\\lib\\site-packages\\sklearn\\metrics\\base.py\u001b[0m in \u001b[0;36m_average_binary_score\u001b[1;34m(binary_metric, y_true, y_score, average, sample_weight)\u001b[0m\n\u001b[0;32m     71\u001b[0m     \u001b[0my_type\u001b[0m \u001b[1;33m=\u001b[0m \u001b[0mtype_of_target\u001b[0m\u001b[1;33m(\u001b[0m\u001b[0my_true\u001b[0m\u001b[1;33m)\u001b[0m\u001b[1;33m\u001b[0m\u001b[1;33m\u001b[0m\u001b[0m\n\u001b[0;32m     72\u001b[0m     \u001b[1;32mif\u001b[0m \u001b[0my_type\u001b[0m \u001b[1;32mnot\u001b[0m \u001b[1;32min\u001b[0m \u001b[1;33m(\u001b[0m\u001b[1;34m\"binary\"\u001b[0m\u001b[1;33m,\u001b[0m \u001b[1;34m\"multilabel-indicator\"\u001b[0m\u001b[1;33m)\u001b[0m\u001b[1;33m:\u001b[0m\u001b[1;33m\u001b[0m\u001b[1;33m\u001b[0m\u001b[0m\n\u001b[1;32m---> 73\u001b[1;33m         \u001b[1;32mraise\u001b[0m \u001b[0mValueError\u001b[0m\u001b[1;33m(\u001b[0m\u001b[1;34m\"{0} format is not supported\"\u001b[0m\u001b[1;33m.\u001b[0m\u001b[0mformat\u001b[0m\u001b[1;33m(\u001b[0m\u001b[0my_type\u001b[0m\u001b[1;33m)\u001b[0m\u001b[1;33m)\u001b[0m\u001b[1;33m\u001b[0m\u001b[1;33m\u001b[0m\u001b[0m\n\u001b[0m\u001b[0;32m     74\u001b[0m \u001b[1;33m\u001b[0m\u001b[0m\n\u001b[0;32m     75\u001b[0m     \u001b[1;32mif\u001b[0m \u001b[0my_type\u001b[0m \u001b[1;33m==\u001b[0m \u001b[1;34m\"binary\"\u001b[0m\u001b[1;33m:\u001b[0m\u001b[1;33m\u001b[0m\u001b[1;33m\u001b[0m\u001b[0m\n",
      "\u001b[1;31mValueError\u001b[0m: multiclass format is not supported"
     ]
    }
   ],
   "source": [
    "from sklearn import metrics\n",
    "\n",
    "y_pred=clf.predict(X_test)\n",
    "# Model Accuracy, how often is the classifier correct?\n",
    "\n",
    "\n",
    "print(\"Accuracy:\",metrics.accuracy_score(y_pred, y_test))\n",
    "\n",
    "\n"
   ]
  },
  {
   "cell_type": "code",
   "execution_count": null,
   "metadata": {},
   "outputs": [],
   "source": []
  },
  {
   "cell_type": "code",
   "execution_count": null,
   "metadata": {},
   "outputs": [],
   "source": []
  },
  {
   "cell_type": "code",
   "execution_count": null,
   "metadata": {},
   "outputs": [],
   "source": []
  },
  {
   "cell_type": "code",
   "execution_count": 137,
   "metadata": {},
   "outputs": [],
   "source": [
    "from sklearn.metrics import accuracy_score, f1_score, precision_score, recall_score, classification_report, confusion_matrix\n",
    "\n",
    "import numpy as np\n",
    "import pandas as pd\n",
    "import matplotlib.pyplot as plt\n",
    "import seaborn as sns\n",
    "from sklearn.metrics import confusion_matrix\n",
    "\n",
    "def cm_analysis(y_true, y_pred, labels, ymap=None, figsize=(10,10)):\n",
    "    if ymap is not None:\n",
    "        y_pred = [ymap[yi] for yi in y_pred]\n",
    "        y_true = [ymap[yi] for yi in y_true]\n",
    "        labels = [ymap[yi] for yi in labels]\n",
    "    cm = confusion_matrix(y_true, y_pred, labels=labels)\n",
    "    cm_sum = np.sum(cm, axis=1, keepdims=True)\n",
    "    cm_perc = cm / cm_sum.astype(float) * 100\n",
    "    annot = np.empty_like(cm).astype(str)\n",
    "    nrows, ncols = cm.shape\n",
    "    for i in range(nrows):\n",
    "        for j in range(ncols):\n",
    "            c = cm[i, j]\n",
    "            p = cm_perc[i, j]\n",
    "            if i == j:\n",
    "                s = cm_sum[i]\n",
    "                annot[i, j] = '%.1f%%\\n%d/%d' % (p, c, s)\n",
    "            elif c == 0:\n",
    "                annot[i, j] = ''\n",
    "            else:\n",
    "                annot[i, j] = '%.1f%%\\n%d' % (p, c)\n",
    "              \n",
    "    cm = pd.DataFrame(cm, index=labels, columns=labels)\n",
    "    \n",
    "    cm.index.name = 'Actual'\n",
    "    cm.columns.name = 'Predicted'\n",
    "    fig, ax = plt.subplots(figsize=figsize)\n",
    "    ##CUSTOMIZE GRAFTS - BORDERS THICKNESS 0,75 N COLOUR - BLACK\n",
    "    sns.heatmap(cm, annot=annot, fmt='', ax=ax, cmap=\"YlGnBu\", linewidths=0.75, linecolor='black')\n",
    "    \n",
    "    plt.title(\"Random Forest 100\")\n",
    "    plt.savefig(\"Random Forest\")\n",
    "    \n",
    "    plt.show()"
   ]
  },
  {
   "cell_type": "code",
   "execution_count": 138,
   "metadata": {},
   "outputs": [
    {
     "data": {
      "image/png": "[encoded data removed]",
      "text/plain": [
       "<Figure size 576x576 with 2 Axes>"
      ]
     },
     "metadata": {
      "needs_background": "light"
     },
     "output_type": "display_data"
    }
   ],
   "source": [
    "cm_analysis(y_test, y_pred, [0,1,2,3], ymap=None, figsize=(8,8))"
   ]
  },
  {
   "cell_type": "markdown",
   "metadata": {},
   "source": [
    "## SAVE MODEL "
   ]
  },
  {
   "cell_type": "code",
   "execution_count": 126,
   "metadata": {},
   "outputs": [],
   "source": [
    "import pickle\n",
    "# save the model to disk\n",
    "filename = 'RandomForest100.sav'\n",
    "pickle.dump(clf, open(filename, 'wb'))\n",
    "\n"
   ]
  },
  {
   "cell_type": "code",
   "execution_count": 129,
   "metadata": {},
   "outputs": [],
   "source": [
    "# load the model from disk\n",
    "loaded_model = pickle.load(open(filename, 'rb'))\n",
    "y_pred=clf.predict(X_test)\n"
   ]
  },
  {
   "cell_type": "code",
   "execution_count": null,
   "metadata": {},
   "outputs": [],
   "source": []
  }
 ],
 "metadata": {
  "kernelspec": {
   "display_name": "Python 3",
   "language": "python",
   "name": "python3"
  },
  "language_info": {
   "codemirror_mode": {
    "name": "ipython",
    "version": 3
   },
   "file_extension": ".py",
   "mimetype": "text/x-python",
   "name": "python",
   "nbconvert_exporter": "python",
   "pygments_lexer": "ipython3",
   "version": "3.7.3"
  }
 },
 "nbformat": 4,
 "nbformat_minor": 2
}
